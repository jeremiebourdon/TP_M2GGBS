{
 "cells": [
  {
   "cell_type": "markdown",
   "metadata": {},
   "source": [
    "## Modèles à base d'équations différentielles"
   ]
  },
  {
   "cell_type": "code",
   "execution_count": 1,
   "metadata": {},
   "outputs": [],
   "source": [
    "import numpy as np\n",
    "import matplotlib.pyplot as plt\n",
    "from scipy.integrate import odeint"
   ]
  },
  {
   "cell_type": "code",
   "execution_count": null,
   "metadata": {},
   "outputs": [],
   "source": [
    "# The classical prey predator model\n",
    "\n",
    "def model(C,t):\n",
    "    prey=C[0]\n",
    "    predator=C[1]\n",
    "    dprey = prey*((2/3)-(4/3)*predator)\n",
    "    dpredator = predator*(1*prey-1)\n",
    "    return [dprey,dpredator]\n",
    "\n",
    "t = np.linspace(0,100,100000)\n",
    "ds = odeint(model,[1,2],t)\n",
    "\n",
    "X=ds[:,0]\n",
    "Y=ds[:,1]\n",
    "\n",
    "%matplotlib inline\n",
    "plt.figure(1)\n",
    "plt.plot(t,X,'b-',t,Y,'r')\n",
    "plt.xlabel('Temps')\n",
    "plt.ylabel('Abondance')\n",
    "plt.legend(['proies','prédateurs'])\n",
    "plt.show()"
   ]
  },
  {
   "cell_type": "code",
   "execution_count": null,
   "metadata": {},
   "outputs": [],
   "source": [
    "# Question 1 : tracer le plan de phase courbe (X(t),Y(t)) et déterminer l'équilibre du système"
   ]
  },
  {
   "cell_type": "code",
   "execution_count": null,
   "metadata": {},
   "outputs": [],
   "source": [
    "# Question 2 : tracer les courbes des espèces du modèle BIOMD0000000006 - Tyson1991 - Cell Cycle 2 var\n"
   ]
  },
  {
   "cell_type": "markdown",
   "metadata": {},
   "source": [
    "# Simulation Stochastique"
   ]
  },
  {
   "cell_type": "markdown",
   "metadata": {},
   "source": [
    "Installer StochPy, une bibliothèque de simulation stochastique\n",
    "\n",
    "pip install stochpy\n",
    "\n"
   ]
  },
  {
   "cell_type": "code",
   "execution_count": null,
   "metadata": {},
   "outputs": [],
   "source": [
    "# installation de stochpy\n",
    "!pip install stochpy"
   ]
  },
  {
   "cell_type": "code",
   "execution_count": null,
   "metadata": {},
   "outputs": [],
   "source": [
    "import stochpy"
   ]
  },
  {
   "cell_type": "code",
   "execution_count": null,
   "metadata": {},
   "outputs": [],
   "source": [
    "model = stochpy.SSA()\n",
    "model.Model(\"Burstmodel.psc\")\n",
    "model.DoStochSim()\n",
    "model.PlotSpeciesTimeSeries()"
   ]
  },
  {
   "cell_type": "code",
   "execution_count": null,
   "metadata": {},
   "outputs": [],
   "source": [
    "# Créons un petit modèle et sauvons le dans Stochpy/pscmodels/test.psc\n",
    "\n",
    "model = \"\"\"\n",
    "# Reactions\n",
    "R1:\n",
    "    A > B + byp\n",
    "    k1*A\n",
    "\n",
    "R2:\n",
    "    B > A + byp2\n",
    "    k2*B\n",
    "\n",
    "#InitPar\n",
    "k1 = 0.5\n",
    "k2 = 0.5\n",
    "\n",
    "#InitVar\n",
    "A = 10000\n",
    "B = 10000\n",
    "byp = 0\n",
    "byp2 = 0\n",
    "\"\"\"\n",
    "\n",
    "fd=open(\"Stochpy/pscmodels/test.psc\",\"w\")\n",
    "fd.write(model)\n",
    "fd.close()\n",
    "\n",
    "# Question : Dessiner ce modèle et le comprendre. Puis le simuler en utilisant StochPy\n",
    "\n",
    "# Question : Coder un plus grand modèle (eg. celui du cours)\n",
    "\n"
   ]
  },
  {
   "cell_type": "code",
   "execution_count": null,
   "metadata": {},
   "outputs": [],
   "source": []
  },
  {
   "cell_type": "markdown",
   "metadata": {},
   "source": [
    "# Modèles booléens"
   ]
  },
  {
   "cell_type": "markdown",
   "metadata": {},
   "source": [
    "Reprendre l'exemple de PBN donné en cours et le simuler dans les modes synchrone, puis asynchrone"
   ]
  },
  {
   "cell_type": "code",
   "execution_count": null,
   "metadata": {},
   "outputs": [],
   "source": [
    "# Question : Construire le graphe de transition (utiliser networkx)\n",
    "\n",
    "# Question : trouver les cycles"
   ]
  },
  {
   "cell_type": "markdown",
   "metadata": {},
   "source": [
    "Question : Etude de l'article https://www.ncbi.nlm.nih.gov/pmc/articles/PMC4567168/"
   ]
  },
  {
   "cell_type": "markdown",
   "metadata": {},
   "source": [
    "# Réseaux bayésiens"
   ]
  },
  {
   "cell_type": "markdown",
   "metadata": {},
   "source": [
    "Afin d'étudier les réseaux bayésiens, nous allons nous baser sur une bibliothèque Python puissante, pgmpy\n",
    "\n",
    "pip install pgmpy"
   ]
  },
  {
   "cell_type": "code",
   "execution_count": null,
   "metadata": {},
   "outputs": [],
   "source": [
    "!pip install pgmpy\n",
    "!pip install pandas\n",
    "!pip install wrapt"
   ]
  },
  {
   "cell_type": "markdown",
   "metadata": {},
   "source": [
    "L'objectif est de créer un modèle bayésien simple issu de (http://www.bnlearn.com/bnrepository/#cancer) en utilisant pgmpy.\n",
    "\n",
    "Le principe général consiste à définir la structure du réseau, puis de lui ajouter des paramètres probabilistes."
   ]
  },
  {
   "cell_type": "code",
   "execution_count": null,
   "metadata": {},
   "outputs": [],
   "source": [
    "# Définition de la structure du réseau\n",
    "from pgmpy.models import BayesianModel\n",
    "\n",
    "cancer_model = BayesianModel([('Pollution', 'Cancer'), \n",
    "                              ('Smoker', 'Cancer'),\n",
    "                              ('Cancer', 'Xray'),\n",
    "                              ('Cancer', 'Dyspnoea')])"
   ]
  },
  {
   "cell_type": "code",
   "execution_count": null,
   "metadata": {},
   "outputs": [],
   "source": [
    "# Définition des paramètres\n",
    "from pgmpy.factors.discrete import TabularCPD\n",
    "\n",
    "cpd_poll = TabularCPD(variable='Pollution', variable_card=2,\n",
    "                      values=[[0.9], [0.1]])\n",
    "cpd_smoke = TabularCPD(variable='Smoker', variable_card=2,\n",
    "                       values=[[0.3], [0.7]])\n",
    "cpd_cancer = TabularCPD(variable='Cancer', variable_card=2,\n",
    "                        values=[[0.03, 0.05, 0.001, 0.02],\n",
    "                                [0.97, 0.95, 0.999, 0.98]],\n",
    "                        evidence=['Smoker', 'Pollution'],\n",
    "                        evidence_card=[2, 2])\n",
    "cpd_xray = TabularCPD(variable='Xray', variable_card=2,\n",
    "                      values=[[0.9, 0.2], [0.1, 0.8]],\n",
    "                      evidence=['Cancer'], evidence_card=[2])\n",
    "cpd_dysp = TabularCPD(variable='Dyspnoea', variable_card=2,\n",
    "                      values=[[0.65, 0.3], [0.35, 0.7]],\n",
    "                      evidence=['Cancer'], evidence_card=[2])"
   ]
  },
  {
   "cell_type": "code",
   "execution_count": null,
   "metadata": {},
   "outputs": [],
   "source": [
    "# Association des parameters à la structure.\n",
    "cancer_model.add_cpds(cpd_poll, cpd_smoke, cpd_cancer, cpd_xray, cpd_dysp)\n",
    "\n",
    "# Test du model.\n",
    "cancer_model.check_model()\n"
   ]
  },
  {
   "cell_type": "code",
   "execution_count": null,
   "metadata": {},
   "outputs": [],
   "source": [
    "# Inference des lois de probabilités (algorithme Variable Elimination)\n",
    "from pgmpy.inference import VariableElimination\n",
    "infer = VariableElimination(cancer_model)\n",
    "\n",
    "# Calcul de la probabilité de faire un test RayonX sachant qu'il y a de la pollution\n",
    "q = infer.query(variables=['Xray'], evidence={'Pollution': 1})\n",
    "print(q['Xray'])"
   ]
  },
  {
   "cell_type": "markdown",
   "metadata": {},
   "source": [
    "Question : reprendre le modèle du cours et calculer les probabilités demandées"
   ]
  },
  {
   "cell_type": "code",
   "execution_count": 2,
   "metadata": {},
   "outputs": [
    {
     "name": "stdout",
     "output_type": "stream",
     "text": [
      "/bin/sh: 1: zip: not found\r\n"
     ]
    }
   ],
   "source": [
    "!tar czfv ArchiveTP.tgz *"
   ]
  },
  {
   "cell_type": "code",
   "execution_count": null,
   "metadata": {},
   "outputs": [],
   "source": []
  }
 ],
 "metadata": {
  "kernelspec": {
   "display_name": "Python 3",
   "language": "python",
   "name": "python3"
  },
  "language_info": {
   "codemirror_mode": {
    "name": "ipython",
    "version": 3
   },
   "file_extension": ".py",
   "mimetype": "text/x-python",
   "name": "python",
   "nbconvert_exporter": "python",
   "pygments_lexer": "ipython3",
   "version": "3.7.3"
  }
 },
 "nbformat": 4,
 "nbformat_minor": 2
}
